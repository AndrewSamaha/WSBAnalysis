{
 "cells": [
  {
   "cell_type": "raw",
   "id": "careful-tunisia",
   "metadata": {},
   "source": [
    "Focus show off \n",
    "technical skills\n",
    "- eda\n",
    "- visualization\n",
    "- hypothesis testing\n",
    "- webscraping\n",
    "presentation skills\n",
    "- communicating technical findings to nontechnical audiences\n",
    "- crafting an effective presentation\n",
    "project management\n",
    "- budgeting time wisely\n",
    "- identifying steps for a successful project\n",
    "- get minimum viable product\n",
    "\n",
    "we'll be presenting saturday afternoon 4/10\n",
    "\n",
    "every class:\n",
    "1. one sentence high-level description of project\n",
    "2. what you worked on yesterday\n",
    "3. what you worked on today\n",
    "4. any blockers\n",
    "\n",
    "Deliverables:\n",
    "- an effective readme\n",
    "  - background/motivation\n",
    "  - data\n",
    "  - eda\n",
    "  - hypothesis testing\n",
    "  - conclusions\n",
    "  - contact info\n",
    "- presentation slides (pull things from your readme\n",
    "  - length 4-8 slides\n",
    "  - \n",
    "- Code (notebooks & scripts) in github\n",
    "  - create a repo\n",
    "  - organize it\n",
    "      - notebooks\n",
    "      - visualizations\n",
    "      - scripts\n",
    "      - readme.md\n",
    "      - gitignore\n",
    "  - always be committing"
   ]
  },
  {
   "cell_type": "code",
   "execution_count": 11,
   "id": "handled-success",
   "metadata": {},
   "outputs": [],
   "source": [
    "from pymongo import MongoClient\n",
    "import numpy as np\n",
    "import scipy.stats as stats\n",
    "import matplotlib.pyplot as plt\n",
    "import seaborn as sns\n",
    "from wsba import *\n",
    "%matplotlib inline"
   ]
  },
  {
   "cell_type": "code",
   "execution_count": 12,
   "id": "conditional-auction",
   "metadata": {},
   "outputs": [],
   "source": [
    "# Pilfered from https://towardsdatascience.com/making-matplotlib-beautiful-by-default-d0d41e3534fd\n",
    "sns.set(\n",
    "    #font='Franklin Gothic Book',\n",
    "    rc={\n",
    "         'axes.axisbelow': False,\n",
    "         'axes.edgecolor': 'lightgrey',\n",
    "         'axes.facecolor': 'None',\n",
    "         'axes.grid': False,\n",
    "         'axes.labelcolor': 'dimgrey',\n",
    "         'axes.spines.right': False,\n",
    "         'axes.spines.top': False,\n",
    "         'figure.facecolor': 'white',\n",
    "         'lines.solid_capstyle': 'round',\n",
    "         'patch.edgecolor': 'w',\n",
    "         'patch.force_edgecolor': True,\n",
    "         'text.color': 'dimgrey',\n",
    "         'xtick.bottom': True,\n",
    "         'xtick.color': 'dimgrey',\n",
    "         'xtick.direction': 'out',\n",
    "         'xtick.top': False,\n",
    "         'ytick.color': 'dimgrey',\n",
    "         'ytick.direction': 'out',\n",
    "         'ytick.left': True,\n",
    "         'ytick.right': False})\n",
    "sns.set_context(\"notebook\", rc={\"font.size\":16,\n",
    "                                \"axes.titlesize\":20,\n",
    "                                \"axes.labelsize\":18})\n"
   ]
  },
  {
   "cell_type": "code",
   "execution_count": 14,
   "id": "fifteen-emphasis",
   "metadata": {},
   "outputs": [
    {
     "data": {
      "text/plain": [
       "1719"
      ]
     },
     "execution_count": 14,
     "metadata": {},
     "output_type": "execute_result"
    }
   ],
   "source": [
    "getnumsubmissions()"
   ]
  },
  {
   "cell_type": "code",
   "execution_count": 15,
   "id": "worse-ottawa",
   "metadata": {},
   "outputs": [
    {
     "data": {
      "text/plain": [
       "\"{'_id': ObjectId('605bb15d5df7eedfb49c1b8b'), 'id': 'mcheu3', 'fullname': 't3_mcheu3', 'selftext': '', 'created_utc': '2021-03-24 17:38:13', 'num_comments': 0, 'score': 1, 'upvote_ratio': 1.0, 'is_original_content': False, 'permalink': '/r/wallstreetbets/comments/mcheu3/ill_just_blame_it_on_my_wifes_bf_those_16_shares/', 'title': 'I’ll just blame it on my wife’s bf. Those 16 shares came from his account . 🦍 🍌 🤡 honk honk . 🍦 ICE-CREAM !!! When the —— did we get ice-cream !', 'author': 'DaveThePOKEMONGuy', 'firstseen': '2021-03-24 21:38:37.006766'}\""
      ]
     },
     "execution_count": 15,
     "metadata": {},
     "output_type": "execute_result"
    }
   ],
   "source": [
    "findone()"
   ]
  },
  {
   "cell_type": "markdown",
   "id": "younger-constant",
   "metadata": {},
   "source": [
    "Here is raw mongo to sort by date:\n",
    "```    \n",
    "db.wsb_submissions.aggregate( [ {\n",
    "   $project: {\n",
    "      'date': {\n",
    "         $dateFromString: {\n",
    "            dateString: '$created_utc'\n",
    "         }\n",
    "      }\n",
    "   }\n",
    "}, { $sort: { 'date' : 1} } ] )\n",
    "```\n"
   ]
  },
  {
   "cell_type": "code",
   "execution_count": 16,
   "id": "virtual-costa",
   "metadata": {},
   "outputs": [],
   "source": [
    "date_sorted = wsbs.aggregate( [ {\n",
    "   '$project': {\n",
    "      'date': {\n",
    "         '$dateFromString': {\n",
    "            'dateString': '$created_utc'\n",
    "         }\n",
    "      }\n",
    "   }\n",
    "}, { '$sort': { 'date' : 1} } ] )"
   ]
  },
  {
   "cell_type": "code",
   "execution_count": 17,
   "id": "intellectual-spelling",
   "metadata": {},
   "outputs": [
    {
     "name": "stdout",
     "output_type": "stream",
     "text": [
      "{'_id': ObjectId('605bb2fe5df7eedfb49c1f56'), 'date': datetime.datetime(2021, 3, 18, 15, 8, 41)}\n"
     ]
    }
   ],
   "source": [
    "for x in date_sorted:\n",
    "    print(x)\n",
    "    break"
   ]
  },
  {
   "cell_type": "code",
   "execution_count": 20,
   "id": "oriented-creativity",
   "metadata": {},
   "outputs": [],
   "source": [
    "def getdaterange():\n",
    "    first = None\n",
    "    last = None\n",
    "    dates_sorted = wsbs.aggregate( [ { '$project': { 'date': { '$dateFromString': \n",
    "        { 'dateString': '$created_utc' } } } }, { '$sort': { 'date' : 1} } ] )\n",
    "    for val in dates_sorted:\n",
    "        first = val\n",
    "        break\n",
    "    dates_sorted = wsbs.aggregate( [ { '$project': { 'date': { '$dateFromString': \n",
    "        { 'dateString': '$created_utc' } } } }, { '$sort': { 'date' : -1} } ] )\n",
    "    for val in dates_sorted:\n",
    "        last = val\n",
    "        break\n",
    "    \n",
    "    return (first,last)"
   ]
  },
  {
   "cell_type": "code",
   "execution_count": 21,
   "id": "eight-compatibility",
   "metadata": {},
   "outputs": [
    {
     "data": {
      "text/plain": [
       "'04/01/21'"
      ]
     },
     "execution_count": 21,
     "metadata": {},
     "output_type": "execute_result"
    }
   ],
   "source": [
    "first,last = getdaterange()\n",
    "last['date'].strftime('%m/%d/%y')"
   ]
  },
  {
   "cell_type": "raw",
   "id": "ruled-subscriber",
   "metadata": {},
   "source": [
    "db.wsb_submissions.aggregate(\n",
    "    [ \n",
    "        {\n",
    "            \"$group\": \n",
    "            { \n",
    "                _id:\"$author\", \n",
    "                count: { $sum:1 }\n",
    "            }    \n",
    "         },\n",
    "         {\n",
    "            \"$sort\":    {'count': 1 }\n",
    "         }\n",
    "    ]\n",
    ")\n"
   ]
  },
  {
   "cell_type": "code",
   "execution_count": 22,
   "id": "demographic-surgeon",
   "metadata": {
    "tags": []
   },
   "outputs": [],
   "source": [
    "def groupbyauthor(show=False, min=0):\n",
    "    authors = wsbs.aggregate([{\"$group\":{\"_id\":\"$author\",\"count\": { \"$sum\":1 }}},{\"$sort\":{'count':-1}}])\n",
    "    most = 10\n",
    "    i = 0\n",
    "    post_counts = []\n",
    "    posters = []\n",
    "    for x in authors:\n",
    "        if x['count'] > 1 and show:\n",
    "            print(x)\n",
    "    \n",
    "        if x['count'] >= min:\n",
    "            i += 1\n",
    "            post_counts.append(x['count'])\n",
    "            posters.append(x['_id'])\n",
    "            \n",
    "    return (i, posters, post_counts)\n",
    "    "
   ]
  },
  {
   "cell_type": "code",
   "execution_count": 27,
   "id": "verbal-shade",
   "metadata": {},
   "outputs": [
    {
     "data": {
      "image/png": "[encoded data removed]",
      "text/plain": [
       "<Figure size 432x432 with 1 Axes>"
      ]
     },
     "metadata": {},
     "output_type": "display_data"
    }
   ],
   "source": [
    "num, posters, post_counts = groupbyauthor()\n",
    "\n",
    "\n",
    "fig, ax = plt.subplots(1,1, figsize=(6,6))\n",
    "ax.scatter(x=stats.norm.rvs(1,size=len(post_counts),scale=.2),\n",
    "           y=post_counts,\n",
    "           s=10,\n",
    "           alpha=.4)\n",
    "ax.set_ylabel(f'Number of Posts (n={sum(post_counts)})')\n",
    "ax.set_ylim(ymin=0)\n",
    "ax.set_xlim(xmin=0,xmax=2)\n",
    "plt.tight_layout()\n",
    "#plt.savefig('figures/pda_numposts.png')"
   ]
  },
  {
   "cell_type": "code",
   "execution_count": 28,
   "id": "absent-unknown",
   "metadata": {},
   "outputs": [
    {
     "data": {
      "image/png": "[encoded data removed]",
      "text/plain": [
       "<Figure size 432x432 with 1 Axes>"
      ]
     },
     "metadata": {},
     "output_type": "display_data"
    }
   ],
   "source": [
    "fig, ax = plt.subplots(1,1, figsize=(6,6))\n",
    "ax.hist(x=post_counts)\n",
    "ax.set_ylabel(f'Number of Posters (n={num})')\n",
    "ax.set_xlabel('Number of Posts')\n",
    "plt.tight_layout()\n",
    "plt.yscale('log')\n",
    "#plt.savefig('figures/pda_numposts_hist.png')"
   ]
  },
  {
   "cell_type": "code",
   "execution_count": null,
   "id": "international-elder",
   "metadata": {},
   "outputs": [],
   "source": []
  }
 ],
 "metadata": {
  "kernelspec": {
   "display_name": "Python 3",
   "language": "python",
   "name": "python3"
  },
  "language_info": {
   "codemirror_mode": {
    "name": "ipython",
    "version": 3
   },
   "file_extension": ".py",
   "mimetype": "text/x-python",
   "name": "python",
   "nbconvert_exporter": "python",
   "pygments_lexer": "ipython3",
   "version": "3.7.9"
  }
 },
 "nbformat": 4,
 "nbformat_minor": 5
}
